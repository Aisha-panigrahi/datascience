{
 "cells": [
  {
   "cell_type": "raw",
   "id": "9e71c5d9",
   "metadata": {},
   "source": [
    "1. In the below elements which of them are values or an expression? eg:- values can be integer or string and expressions will be mathematical operators.\n",
    "*\n",
    "'hello'\n",
    "-87.8\n",
    "-\n",
    "/\n",
    "+\n",
    "6\n",
    "ANS: Here * is an EXPRESSION\n",
    "          'hello' is a VALUE\n",
    "          -87.8 is a VALUE\n",
    "          - is an EXPRESSION\n",
    "          / is an EXPRESSION\n",
    "          + is an EXPRESSION\n",
    "          6 is a VALUE"
   ]
  },
  {
   "cell_type": "raw",
   "id": "77de2c1f",
   "metadata": {},
   "source": [
    "2. What is the difference between string and variable?\n",
    "ANS: STRING is a group or series of characters enclosed within single or double quotes.\n",
    "     For example;\n",
    "         \"This is my first assignment of Python\"  or\n",
    "         'Aisha'\n",
    "     String can be simply a word or a sentence as well.\n",
    "     \n",
    "     VARIABLE is a reserved memory locations to store values.Based on the data type of a variable, the interpreter allocates          memory and decides what can be stored in the reserved memory.\n",
    "     for example;\n",
    "           a=\"aisha\"\n",
    "           Here, a is the variable which stores the string as a value of a.\n",
    "     Variable names can contain only letters, numbers, and underscores. They can start with a letter or an underscore, but not        with a number.     "
   ]
  },
  {
   "cell_type": "raw",
   "id": "1c3c69fb",
   "metadata": {},
   "source": [
    "3. Describe three different data types.\n",
    "ANS: There are different types of data types in python. Out of those,some of the three data types are-\n",
    "     (a) Numeric\n",
    "     (b) Sequence\n",
    "     (c) Boolean\n",
    "     \n",
    "     NUMERIC DATA TYPES:\n",
    "     It consists of integers,float,complex numbers.\n",
    "     INTEGERS are represented by int class. It contains positive or negative whole numbers.\n",
    "     FLOAT is represented by float class. It is a real number with floating point representation. It is specified by a decimal        point. \n",
    "     COMPLEX NUMBERS are represented by complex class. It is specified as (real part) + (imaginary part)j. For example – 8+5j\n",
    "     \n",
    "     SEQUENCE DATA TYPES:\n",
    "     LIST, TUPLES  are some of the sequence data types.\n",
    "     LIST is a ordered collection of data where the items in a list do not need to be of the same type.Lists are mutable.\n",
    "     The elements or data are enclosed within square brackets[] in LIST.\n",
    "     TUPLES is also an ordered collection of Python objects. The only difference between tuple and list is that tuples are            immutable i.e. tuples cannot be modified after it is created. The elements are enclosed within a pair of parantheses().\n",
    "     \n",
    "     BOOLEAN DATA TYPE:\n",
    "     Boolean data type consists of the two built-in values i.e. TRUE and FALSE. The objects can be evaluated in Boolean context      as well and determined to be true or false. In python, the bool expression i.e. True and False should alwaya start with          capital T and F otherwise it will throw an error as python is case sensitive. "
   ]
  },
  {
   "cell_type": "raw",
   "id": "741436ac",
   "metadata": {},
   "source": [
    "4. What is an expression made up of? What do all expressions do?\n",
    "ANS: An expression is made up of values, variables, operators, and calls to functions. Expressions need to be evaluated.\n",
    "     To print an expression in python, the interpreter evaluates the expression and displays the result.Expression are used to        perform some sort of operations provided by the user."
   ]
  },
  {
   "cell_type": "raw",
   "id": "13b1e226",
   "metadata": {},
   "source": [
    "5. This assignment statements, like spam = 10. What is the difference between an expression and a statement?\n",
    "ANS: An expression evaluates to a single value. A statement does not. The statement is just like a command that a python interpreter executes like print."
   ]
  },
  {
   "cell_type": "raw",
   "id": "6a2cbd0d",
   "metadata": {},
   "source": [
    "6. After running the following code, what does the variable bacon contain?\n",
    "bacon = 22\n",
    "bacon + 1\n",
    "\n",
    "ANS: it gives 23 as the output.\n"
   ]
  },
  {
   "cell_type": "raw",
   "id": "c814e982",
   "metadata": {},
   "source": []
  },
  {
   "cell_type": "raw",
   "id": "771ed0e6",
   "metadata": {},
   "source": [
    "7. What should the values of the following two terms be?\n",
    "'spam' + 'spamspam'\n",
    "'spam' * 3\n",
    "ANS: The values of the two terms after executing is 'spamspamspam'"
   ]
  },
  {
   "cell_type": "raw",
   "id": "9840f6ba",
   "metadata": {},
   "source": []
  },
  {
   "cell_type": "raw",
   "id": "f2b12d63",
   "metadata": {},
   "source": [
    "8. Why is eggs a valid variable name while 100 is invalid?\n",
    "ANS: eggs is a valid variable name because the first character in the variable name must be an alphabet or underscore but note        INTEGER. As 100 is an integer, it is an invalid variable name."
   ]
  },
  {
   "cell_type": "raw",
   "id": "8a1bc9f4",
   "metadata": {},
   "source": [
    "9. What three functions can be used to get the integer, floating-point number, or string version of a value?\n",
    "ANS: int(), float(), string()"
   ]
  },
  {
   "cell_type": "raw",
   "id": "d03d4a2d",
   "metadata": {},
   "source": [
    "10. Why does this expression cause an error? How can you fix it?\n",
    "'I have eaten ' + 99 + ' burritos.'\n",
    "ANS: As 'I have eaten' and 'burritos' are two strings and 99 is an integer,we can't concatinate strings with integers. Inorder to concatinate the above, we have to do typecast 99 into string by using single/double quotes in the following manner."
   ]
  },
  {
   "cell_type": "code",
   "execution_count": null,
   "id": "3a7d30c9",
   "metadata": {},
   "outputs": [],
   "source": []
  },
  {
   "cell_type": "raw",
   "id": "a034370a",
   "metadata": {},
   "source": []
  }
 ],
 "metadata": {
  "kernelspec": {
   "display_name": "Python 3 (ipykernel)",
   "language": "python",
   "name": "python3"
  },
  "language_info": {
   "codemirror_mode": {
    "name": "ipython",
    "version": 3
   },
   "file_extension": ".py",
   "mimetype": "text/x-python",
   "name": "python",
   "nbconvert_exporter": "python",
   "pygments_lexer": "ipython3",
   "version": "3.9.13"
  }
 },
 "nbformat": 4,
 "nbformat_minor": 5
}
